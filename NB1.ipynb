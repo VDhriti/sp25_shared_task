{
 "cells": [
  {
   "cell_type": "code",
   "execution_count": 1,
   "id": "b38dd28c-c120-4a2d-a036-556af408fce7",
   "metadata": {},
   "outputs": [],
   "source": [
    "import numpy as np\n",
    "import pandas as pd\n",
    "import matplotlib.pyplot as plt"
   ]
  },
  {
   "cell_type": "code",
   "execution_count": 2,
   "id": "ee463f25-08e9-4ecd-81bd-aab501473f4e",
   "metadata": {},
   "outputs": [],
   "source": [
    "import json\n",
    "import os\n",
    "from glob import glob\n",
    "from collections import Counter, defaultdict"
   ]
  },
  {
   "cell_type": "code",
   "execution_count": 3,
   "id": "55bbbbaf-16c1-4901-b0f1-b8882ee23782",
   "metadata": {},
   "outputs": [
    {
     "name": "stderr",
     "output_type": "stream",
     "text": [
      "C:\\Users\\dhrit\\Research\\sp25\\.venv\\Lib\\site-packages\\tqdm\\auto.py:21: TqdmWarning: IProgress not found. Please update jupyter and ipywidgets. See https://ipywidgets.readthedocs.io/en/stable/user_install.html\n",
      "  from .autonotebook import tqdm as notebook_tqdm\n"
     ]
    }
   ],
   "source": [
    "from typing import List, Dict\n",
    "\n",
    "import torch\n",
    "import torch.nn as nn\n",
    "from torch.utils.data import Dataset\n",
    "\n",
    "from transformers import (\n",
    "    AutoTokenizer,\n",
    "    AutoModel,\n",
    "    Trainer,\n",
    "    TrainingArguments,\n",
    "    DataCollatorWithPadding,\n",
    "    EvalPrediction,\n",
    ")\n",
    "from sklearn.metrics import accuracy_score, precision_recall_fscore_support"
   ]
  },
  {
   "cell_type": "code",
   "execution_count": 4,
   "id": "2d99cdb7-e9cc-446a-b7b2-f6a76bc047bd",
   "metadata": {},
   "outputs": [
    {
     "data": {
      "text/plain": [
       "True"
      ]
     },
     "execution_count": 4,
     "metadata": {},
     "output_type": "execute_result"
    }
   ],
   "source": [
    "import torch\n",
    "torch.cuda.is_available()"
   ]
  },
  {
   "cell_type": "code",
   "execution_count": 5,
   "id": "7b679576-3dd1-410c-b216-01106c31ccff",
   "metadata": {},
   "outputs": [],
   "source": [
    "from transformers import AutoModel, AutoTokenizer, AutoModelForSequenceClassification, DataCollatorWithPadding\n",
    "from torch.utils.data import Dataset\n",
    "from transformers import pipeline"
   ]
  },
  {
   "cell_type": "code",
   "execution_count": 6,
   "id": "ee385c16-0639-4a74-8675-ffe4727e7815",
   "metadata": {},
   "outputs": [],
   "source": [
    "class ChangeDetectionDataset(Dataset):\n",
    "    def __init__(self, root_dir: str, tokenizer, max_length: int = 512):\n",
    "        \"\"\"\n",
    "        root_dir should be e.g. \"easy/train\" or \"hard/validation\"\n",
    "        Expects files: problem-*.txt and truth-problem-*.json\n",
    "        \"\"\"\n",
    "        self.examples = []\n",
    "        self.tokenizer = tokenizer\n",
    "        self.max_length = max_length\n",
    "\n",
    "        # find all txt files\n",
    "        for txt_path in glob(os.path.join(root_dir, \"problem-*.txt\")):\n",
    "            base = os.path.splitext(os.path.basename(txt_path))[0]  # e.g. \"problem-3\"\n",
    "            json_path = os.path.join(root_dir, f\"truth-{base}.json\")\n",
    "            if not os.path.exists(json_path):\n",
    "                continue\n",
    "\n",
    "            # read sentences\n",
    "            with open(txt_path, encoding=\"utf-8\") as f:\n",
    "                lines = [l.strip() for l in f.readlines() if l.strip()]\n",
    "            # read labels\n",
    "            with open(json_path, encoding=\"utf-8\") as f:\n",
    "                data = json.load(f)\n",
    "            changes: List[int] = data[\"changes\"]\n",
    "\n",
    "            # build pairs (sent_i, sent_{i+1})\n",
    "            for i, label in enumerate(changes):\n",
    "                if i + 1 < len(lines):\n",
    "                    self.examples.append({\n",
    "                        \"sent1\": lines[i],\n",
    "                        \"sent2\": lines[i+1],\n",
    "                        \"label\": label,\n",
    "                    })\n",
    "\n",
    "    def __len__(self):\n",
    "        return len(self.examples)\n",
    "\n",
    "    def __getitem__(self, idx):\n",
    "        ex = self.examples[idx]\n",
    "        # tokenizer will handle truncation and padding (padding done in collator)\n",
    "        enc = self.tokenizer(\n",
    "            ex[\"sent1\"],\n",
    "            ex[\"sent2\"],\n",
    "            truncation=True,\n",
    "            max_length=self.max_length,\n",
    "            #padding=\"max_length\",\n",
    "        )\n",
    "        enc[\"labels\"] = torch.tensor(ex[\"label\"], dtype=torch.long)\n",
    "        return enc"
   ]
  },
  {
   "cell_type": "code",
   "execution_count": 7,
   "id": "5ff0ec22-5b9a-40ef-b626-9e88759f8036",
   "metadata": {},
   "outputs": [
    {
     "name": "stderr",
     "output_type": "stream",
     "text": [
      "Some weights of RobertaForSequenceClassification were not initialized from the model checkpoint at vinai/bertweet-large and are newly initialized: ['classifier.dense.bias', 'classifier.dense.weight', 'classifier.out_proj.bias', 'classifier.out_proj.weight']\n",
      "You should probably TRAIN this model on a down-stream task to be able to use it for predictions and inference.\n"
     ]
    }
   ],
   "source": [
    "# bertweet = AutoModel.from_pretrained()\n",
    "bertweet = AutoModelForSequenceClassification.from_pretrained(\"vinai/bertweet-large\", num_labels=2, \n",
    "                                                              problem_type=\"single_label_classification\",\n",
    "                                                              id2label={0: \"NEG\", 1: \"POS\"}, label2id={\"NEG\": 0, \"POS\": 1},\n",
    "                                                             )\n",
    "tokenizer = AutoTokenizer.from_pretrained(\"vinai/bertweet-large\", use_fast=True, \n",
    "                                          normalization=True, add_prefix_space=True,)"
   ]
  },
  {
   "cell_type": "code",
   "execution_count": 9,
   "id": "cb5a5360-f65b-487b-848f-08f3937bbd97",
   "metadata": {},
   "outputs": [],
   "source": [
    "train_ds = ChangeDetectionDataset(\"hard/train\", tokenizer)\n",
    "eval_ds  = ChangeDetectionDataset(\"hard/validation\", tokenizer)"
   ]
  },
  {
   "cell_type": "code",
   "execution_count": 8,
   "id": "56ef8d69-a1fe-4ce6-9b98-f156ebd41730",
   "metadata": {},
   "outputs": [],
   "source": [
    "# lst = [train_ds[i]['attention_mask'].count(1) for i in range(20000)]\n",
    "# plt.hist(lst)"
   ]
  },
  {
   "cell_type": "code",
   "execution_count": 10,
   "id": "f6bb4eed-ec91-4c8e-af81-b1c69232067b",
   "metadata": {},
   "outputs": [],
   "source": [
    "data_collator = DataCollatorWithPadding(\n",
    "    tokenizer,                # uses the model’s pad-token ID\n",
    "    pad_to_multiple_of=8,     # keeps tensors tensor-core friendly; optional\n",
    "    return_tensors=\"pt\"       # default, explicit for clarity\n",
    ")"
   ]
  },
  {
   "cell_type": "code",
   "execution_count": 11,
   "id": "a9028254-7e35-461f-aa5f-e6370e25a184",
   "metadata": {},
   "outputs": [],
   "source": [
    "training_args = TrainingArguments(\n",
    "    output_dir=\"bertweet_large_crossentropy_hard\",\n",
    "    eval_strategy=\"epoch\",\n",
    "    save_strategy=\"epoch\",\n",
    "    learning_rate=2e-5,\n",
    "    per_device_train_batch_size=64,      # ↓ if you OOM; ↑ if you have VRAM\n",
    "    auto_find_batch_size = True,\n",
    "    per_device_eval_batch_size=64,\n",
    "    num_train_epochs=10,\n",
    "    warmup_ratio=0.1,\n",
    "    weight_decay=0.01,\n",
    "    fp16=True,                          # half-precision = 2× speed, 2× memory\n",
    "    gradient_accumulation_steps=2,      # acts like batch_size double\n",
    "    logging_steps=50,\n",
    "    # extra optimization\n",
    "    dataloader_num_workers=4,\n",
    ")"
   ]
  },
  {
   "cell_type": "code",
   "execution_count": 12,
   "id": "c7b509bc-dfd2-48bd-80c7-eb4076f43801",
   "metadata": {},
   "outputs": [
    {
     "name": "stderr",
     "output_type": "stream",
     "text": [
      "C:\\Users\\dhrit\\AppData\\Local\\Temp\\ipykernel_20952\\3945470312.py:1: FutureWarning: `tokenizer` is deprecated and will be removed in version 5.0.0 for `Trainer.__init__`. Use `processing_class` instead.\n",
      "  trainer = Trainer(\n"
     ]
    }
   ],
   "source": [
    "trainer = Trainer(\n",
    "    model=bertweet,\n",
    "    args=training_args,\n",
    "    train_dataset=train_ds,\n",
    "    eval_dataset=eval_ds,\n",
    "    tokenizer=tokenizer,   # keep this so metrics decode nicely\n",
    "    data_collator=data_collator   # <-- perfectly OK to omit\n",
    ")"
   ]
  },
  {
   "cell_type": "code",
   "execution_count": null,
   "id": "d9233651-a6ca-4e71-9046-65fbd0d58c3d",
   "metadata": {},
   "outputs": [],
   "source": [
    "trainer.train()"
   ]
  },
  {
   "cell_type": "code",
   "execution_count": null,
   "id": "ddb1fa2f-0530-4260-b5a8-d6a44949cc37",
   "metadata": {},
   "outputs": [],
   "source": []
  }
 ],
 "metadata": {
  "kernelspec": {
   "display_name": ".venv",
   "language": "python",
   "name": ".venv"
  },
  "language_info": {
   "codemirror_mode": {
    "name": "ipython",
    "version": 3
   },
   "file_extension": ".py",
   "mimetype": "text/x-python",
   "name": "python",
   "nbconvert_exporter": "python",
   "pygments_lexer": "ipython3",
   "version": "3.12.10"
  }
 },
 "nbformat": 4,
 "nbformat_minor": 5
}
